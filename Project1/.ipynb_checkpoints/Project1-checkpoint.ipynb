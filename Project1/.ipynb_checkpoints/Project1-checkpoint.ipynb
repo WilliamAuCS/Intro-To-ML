{
 "cells": [
  {
   "cell_type": "code",
   "execution_count": 2,
   "metadata": {},
   "outputs": [],
   "source": [
    "import csv\n",
    "import sys\n",
    "import numpy as np\n",
    "import pandas as pd\n",
    "import matplotlib.pyplot as plt\n",
    "import numpy.polynomial.polynomial as poly\n",
    "from statistics import mean"
   ]
  },
  {
   "cell_type": "code",
   "execution_count": 3,
   "metadata": {},
   "outputs": [],
   "source": [
    "def read_data(filename):\n",
    "    x = []\n",
    "    t = []\n",
    "    first = True\n",
    "    with open(filename) as csvfile:\n",
    "        data = csv.reader(csvfile)\n",
    "        for year, time in data:\n",
    "            if first is True:\n",
    "                first = False\n",
    "                continue\n",
    "            x.append(float(year))\n",
    "            t.append(float(time))\n",
    "    return x, t"
   ]
  },
  {
   "cell_type": "code",
   "execution_count": null,
   "metadata": {},
   "outputs": [],
   "source": []
  },
  {
   "cell_type": "code",
   "execution_count": 4,
   "metadata": {},
   "outputs": [
    {
     "data": {
      "image/png": "[encoded data removed]",
      "text/plain": [
       "<Figure size 432x288 with 1 Axes>"
      ]
     },
     "metadata": {
      "needs_background": "light"
     },
     "output_type": "display_data"
    }
   ],
   "source": [
    "def Question1():\n",
    "    df = pd.read_csv(\"male400.csv\")\n",
    "    fig, ax = plt.subplots()\n",
    "    my_scatter_plot = ax.scatter(df[\"Year\"], df[\"Time\"])\n",
    "    ax.set_xlabel(\"Year\")\n",
    "    ax.set_ylabel(\"Time\")\n",
    "    ax.set_title(\"Question 1\")\n",
    "    \n",
    "    print(\"The relationship does not appear to be exactly linear due to its slight increase towards the end. \")\n",
    "    print(\"Also, the graph would not make sense if it were linear based on human capabilities. \")\n",
    "    \n",
    "Question1()"
   ]
  },
  {
   "cell_type": "markdown",
   "metadata": {},
   "source": [
    "1. The plot above appears to be "
   ]
  },
  {
   "cell_type": "code",
   "execution_count": 5,
   "metadata": {},
   "outputs": [],
   "source": [
    "def Question2():\n",
    "    # Reading in values\n",
    "    x, t = read_data(\"male400.csv\")\n",
    "    \n",
    "    # Finding Slope and Y-intercept of best-fit line\n",
    "    m, b = np.polyfit(x, t, 1)\n",
    "    s1 = f\"Slope: {m}\"\n",
    "    print(s1)\n",
    "    s1 = f\"y-intercept: {b}\"\n",
    "    print(s1)\n",
    "    \n",
    "    # Plotting read values\n",
    "    plt.plot(x, t, 'o')\n",
    "    # Plotting best-fit line\n",
    "    plt.plot(x, m*np.asarray(x) + b)\n",
    "    \n",
    "    # Contains predicted y-values\n",
    "    y_bar = []\n",
    "    \n",
    "    # Finding y-value of each predicted value corresponding to its observed value\n",
    "    for i in range(len(x)):\n",
    "        j = m * x[i] + b\n",
    "        y_bar.append(j)\n",
    "    \n",
    "    # Calculating MSE of linear model based on observed values\n",
    "    MSE = np.square(np.subtract(np.asarray(t), y_bar)).mean()\n",
    "    s1 = f\"MSE: {MSE}\"\n",
    "    print(s1)\n",
    "    \n",
    "\n",
    "#Question2()"
   ]
  },
  {
   "cell_type": "code",
   "execution_count": 23,
   "metadata": {},
   "outputs": [],
   "source": [
    "def Question3():\n",
    "    # Reading in values\n",
    "    x, t = read_data(\"male400.csv\")\n",
    "    \n",
    "    # Finding Slope and Y-intercept of best-fit line\n",
    "    m, b = np.polyfit(x, t, 1)\n",
    "    \n",
    "    # Plotting read values\n",
    "    plt.plot(x, t, 'o')\n",
    "    # Plotting best-fit line\n",
    "    plt.plot(x, m*np.asarray(x) + b)\n",
    "    \n",
    "    # Contains predicted y-values\n",
    "    y_bar = []\n",
    "    \n",
    "    # Finding y-value of each predicted value corresponding to its observed value\n",
    "    for i in range(len(x)):\n",
    "        j = m * x[i] + b\n",
    "        y_bar.append(j)\n",
    "    \n",
    "    # Calculating MSE of linear model based on observed values\n",
    "    MSE = np.square(np.subtract(np.asarray(t), y_bar)).mean()\n",
    "    s1 = f\"MSE linear model based on observed: {MSE}\"\n",
    "    print(s1)\n",
    "    \n",
    "    # Creating 3rd degree polynomial\n",
    "    x_new = np.linspace(x[0], x[-1], num=len(x)*10)\n",
    "    coefs = poly.polyfit(x, t, 3)\n",
    "    ffit = poly.polyval(x_new, coefs)\n",
    "    plt.plot(x_new, ffit)\n",
    "    \n",
    "    # Finding y-value of 3rd degree polynomial corresponding to its observed value\n",
    "    y_bar3rd = []\n",
    "    for i in range(len(x)):\n",
    "        j = ((x[i] ** 3) * coefs[3]) + ((x[i] ** 2) * coefs[2]) + (x[i] * coefs[1]) + coefs[0]\n",
    "        y_bar3rd.append(j)\n",
    "    \n",
    "    # Calculating MSE for 3rd degree polynomial compared to the previous linear model\n",
    "    MSE3rd = np.square(np.subtract(y_bar, y_bar3rd)).mean()\n",
    "    s1 = f\"MSE 3rd degree poly based on linear model: {MSE3rd}\"\n",
    "    print(s1)\n",
    "    "
   ]
  },
  {
   "cell_type": "code",
   "execution_count": 34,
   "metadata": {},
   "outputs": [
    {
     "name": "stdout",
     "output_type": "stream",
     "text": [
      "MSE linear model based on observed: 1.5780331724469439\n",
      "MSE 3rd degree poly based on linear: 0.6041387744526703\n",
      "MSE 5th degree based on 3rd degree: 0.05067137313128432\n",
      "MSE 5th degree based on linear model: 0.6548100615963179\n"
     ]
    },
    {
     "data": {
      "image/png": "[encoded data removed]",
      "text/plain": [
       "<Figure size 432x288 with 1 Axes>"
      ]
     },
     "metadata": {
      "needs_background": "light"
     },
     "output_type": "display_data"
    }
   ],
   "source": [
    "def Question4():\n",
    "    # Reading in values\n",
    "    x, t = read_data(\"male400.csv\")\n",
    "    \n",
    "    # Finding Slope and Y-intercept of best-fit line\n",
    "    m, b = np.polyfit(x, t, 1)\n",
    "    \n",
    "    # Plotting read values\n",
    "    plt.plot(x, t, 'o')\n",
    "    # Plotting best-fit line\n",
    "    plt.plot(x, m*np.asarray(x) + b)\n",
    "    \n",
    "    # Contains predicted y-values\n",
    "    y_bar = []\n",
    "    \n",
    "    # Finding y-value of each predicted value corresponding to its observed value\n",
    "    for i in range(len(x)):\n",
    "        j = m * x[i] + b\n",
    "        y_bar.append(j)\n",
    "    \n",
    "    # Calculating MSE of linear model based on observed values\n",
    "    MSE = np.square(np.subtract(np.asarray(t), y_bar)).mean()\n",
    "    s1 = f\"MSE linear model based on observed: {MSE}\"\n",
    "    print(s1)\n",
    "    \n",
    "    # Creating 3rd degree polynomial\n",
    "    x_new = np.linspace(x[0], x[-1], num=len(x)*10)\n",
    "    coefs = poly.polyfit(x, t, 3)\n",
    "    ffit = poly.polyval(x_new, coefs)\n",
    "    plt.plot(x_new, ffit)\n",
    "    \n",
    "    # Finding y-value of 3rd degree polynomial corresponding to its observed value\n",
    "    y_bar3rd = []\n",
    "    for i in range(len(x)):\n",
    "        j = ((x[i] ** 3) * coefs[3]) + ((x[i] ** 2) * coefs[2]) + (x[i] * coefs[1]) + coefs[0]\n",
    "        y_bar3rd.append(j)\n",
    "    \n",
    "    # Calculating MSE for 3rd degree polynomial compared to the previous linear model\n",
    "    MSE_3rd = np.square(np.subtract(y_bar, y_bar3rd)).mean()\n",
    "    s1 = f\"MSE 3rd degree poly based on linear: {MSE_3rd}\"\n",
    "    print(s1)\n",
    "    \n",
    "    # Creating 5th degree polynomial\n",
    "    x_5th = np.linspace(x[0], x[-1], num=len(x) * 10)\n",
    "    coefs_5th = poly.polyfit(x, t, 5)\n",
    "    ffit_5th = poly.polyval(x_5th, coefs_5th)\n",
    "    plt.plot(x_5th, ffit_5th)\n",
    "    \n",
    "    # Finding y-valye of 5th degree plynomial corresponding to its observed value\n",
    "    y_bar5th = []\n",
    "    for i in range(len(x)):\n",
    "        j = ((x[i] ** 5) * coefs_5th[5]) + ((x[i] ** 4) * coefs_5th[4]) + ((x[i] ** 3) * coefs_5th[3]) \\\n",
    "        + ((x[i] ** 2) * coefs_5th[2]) + (x[i] * coefs_5th[1]) + coefs_5th[0]\n",
    "        y_bar5th.append(j)\n",
    "    \n",
    "    # Calculating MSE for 5th degree polynomial compared to the previous 3rd degree and linear models\n",
    "    MSE_5thOn3rd = np.square(np.subtract(y_bar3rd, y_bar5th)).mean()\n",
    "    s1 = f\"MSE 5th degree based on 3rd degree: {MSE_5thOn3rd}\"\n",
    "    print(s1)\n",
    "    MSE_5thOnLinear = np.square(np.subtract(y_bar, y_bar5th)).mean()\n",
    "    s1 = f\"MSE 5th degree based on linear model: {MSE_5thOnLinear}\"\n",
    "    print(s1)\n",
    "    "
   ]
  },
  {
   "cell_type": "code",
   "execution_count": 40,
   "metadata": {},
   "outputs": [
    {
     "name": "stdout",
     "output_type": "stream",
     "text": [
      "MSE 3rd degree poly based on linear: 0.6041387744526703\n",
      "MSE 5th degree based on 3rd degree: 0.05067137313128432\n",
      "MSE 5th degree based on linear model: 0.6548100615963179\n",
      "\n",
      "The 3rd degree polynomial appears to be a better model. The 5th order polynomial apears to be overfitting.\n"
     ]
    },
    {
     "data": {
      "image/png": "[encoded data removed]",
      "text/plain": [
       "<Figure size 432x288 with 1 Axes>"
      ]
     },
     "metadata": {
      "needs_background": "light"
     },
     "output_type": "display_data"
    }
   ],
   "source": [
    "def Question5():\n",
    "    # Reading in values\n",
    "    x, t = read_data(\"male400.csv\")\n",
    "    \n",
    "    # Finding Slope and Y-intercept of best-fit line\n",
    "    m, b = np.polyfit(x, t, 1)\n",
    "    \n",
    "    # Plotting read values\n",
    "    plt.plot(x, t, 'o')\n",
    "    \n",
    "    # Contains predicted y-values\n",
    "    y_bar = []\n",
    "    \n",
    "    # Finding y-value of each predicted value corresponding to its observed value\n",
    "    for i in range(len(x)):\n",
    "        j = m * x[i] + b\n",
    "        y_bar.append(j)\n",
    "    \n",
    "    # Creating 3rd degree polynomial\n",
    "    x_new = np.linspace(x[0], x[-1], num=len(x)*10)\n",
    "    coefs = poly.polyfit(x, t, 3)\n",
    "    ffit = poly.polyval(x_new, coefs)\n",
    "    plt.plot(x_new, ffit)\n",
    "    \n",
    "    # Finding y-value of 3rd degree polynomial corresponding to its observed value\n",
    "    y_bar3rd = []\n",
    "    for i in range(len(x)):\n",
    "        j = ((x[i] ** 3) * coefs[3]) + ((x[i] ** 2) * coefs[2]) + (x[i] * coefs[1]) + coefs[0]\n",
    "        y_bar3rd.append(j)\n",
    "    \n",
    "    # Calculating MSE of 3rd degree polynomial compared to the previous linear model\n",
    "    MSE_3rd = np.square(np.subtract(y_bar, y_bar3rd)).mean()\n",
    "    s1 = f\"MSE 3rd degree poly based on linear: {MSE_3rd}\"\n",
    "    print(s1)\n",
    "    \n",
    "    # Creating 5th degree polynomial\n",
    "    x_5th = np.linspace(x[0], x[-1], num=len(x) * 10)\n",
    "    coefs_5th = poly.polyfit(x, t, 5)\n",
    "    ffit_5th = poly.polyval(x_5th, coefs_5th)\n",
    "    plt.plot(x_5th, ffit_5th)\n",
    "    \n",
    "    # Finding y-valye of 5th degree plynomial corresponding to its observed value\n",
    "    y_bar5th = []\n",
    "    for i in range(len(x)):\n",
    "        j = ((x[i] ** 5) * coefs_5th[5]) + ((x[i] ** 4) * coefs_5th[4]) + ((x[i] ** 3) * coefs_5th[3]) \\\n",
    "        + ((x[i] ** 2) * coefs_5th[2]) + (x[i] * coefs_5th[1]) + coefs_5th[0]\n",
    "        y_bar5th.append(j)\n",
    "    \n",
    "    # Calculating MSE of 5th degree polynomial compared to the previous 3rd degree and linear models\n",
    "    MSE_5thOn3rd = np.square(np.subtract(y_bar3rd, y_bar5th)).mean()\n",
    "    s1 = f\"MSE 5th degree based on 3rd degree: {MSE_5thOn3rd}\"\n",
    "    print(s1)\n",
    "    MSE_5thOnLinear = np.square(np.subtract(y_bar, y_bar5th)).mean()\n",
    "    s1 = f\"MSE 5th degree based on linear model: {MSE_5thOnLinear}\"\n",
    "    print(s1)\n",
    "    print()\n",
    "    print(\"The 3rd degree polynomial appears to be a better model. The 5th order polynomial apears \"\n",
    "         \"to be overfitting.\")\n",
    "    \n",
    "Question5()"
   ]
  },
  {
   "cell_type": "code",
   "execution_count": null,
   "metadata": {},
   "outputs": [],
   "source": []
  }
 ],
 "metadata": {
  "kernelspec": {
   "display_name": "Python 3",
   "language": "python",
   "name": "python3"
  },
  "language_info": {
   "codemirror_mode": {
    "name": "ipython",
    "version": 3
   },
   "file_extension": ".py",
   "mimetype": "text/x-python",
   "name": "python",
   "nbconvert_exporter": "python",
   "pygments_lexer": "ipython3",
   "version": "3.6.9"
  }
 },
 "nbformat": 4,
 "nbformat_minor": 4
}
